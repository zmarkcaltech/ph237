{
 "cells": [
  {
   "cell_type": "markdown",
   "metadata": {},
   "source": [
    "## Interferometer Response Matrix"
   ]
  },
  {
   "cell_type": "code",
   "execution_count": null,
   "metadata": {},
   "outputs": [],
   "source": [
    "%matplotlib inline\n",
    "import numpy as np\n",
    "from numpy.linalg import inv\n",
    "import matplotlib.pyplot as plt\n"
   ]
  },
  {
   "cell_type": "code",
   "execution_count": null,
   "metadata": {},
   "outputs": [],
   "source": [
    "#def a function that returns the adjacency matrix as a function\n",
    "#of optical phase accumulated from a half round trip in the interferometer\n",
    "def M(t1, t2, ph):\n",
    "    M = np.zeros([5,5],complex)\n",
    "    r1 = np.sqrt(1 - t1**2) #reflectivity of first mirror\n",
    "    r2 = np.sqrt(1 - t2**2) #reflectivity of the second mirror\n",
    "    M[0,1] = r1\n",
    "    M[0,2] = t1*np.exp(-ph*1j)\n",
    "    M[2,3] = t2\n",
    "    M[2,4] =-r2*np.exp(-ph*1j)\n",
    "    M[4,1] = t1\n",
    "    M[4,2] =-r1*np.exp(-ph*1j)\n",
    "    return M\n",
    "\n",
    "# function that calculates G =(I-M^T)^(-1)\n",
    "def G(t1, t2, ph):\n",
    "    return inv(np.identity(5,complex) - np.transpose(M(t1, t2, ph)))\n"
   ]
  },
  {
   "cell_type": "code",
   "execution_count": null,
   "metadata": {},
   "outputs": [],
   "source": [
    "# define constants\n",
    "t1 = np.sqrt(0.03) # transmissivity of the first mirror\n",
    "t2 = np.sqrt(0.03) # transmissivity  of the second mirror\n",
    "\n",
    "# We can access the values of the field by acting G on the vector E0=(1,0,0,0,0)\n",
    "\n",
    "Ein = np.array([1,0,0,0,0], complex)\n",
    "\n",
    "# define a function that computes the transmitted intensity I\n",
    "# as a function of phase. The transmitted intensity is proportional to the\n",
    "# modulus squared of the electric field at vertex 4\n",
    "\n",
    "def I(ph):\n",
    "    E = np.dot(G(t1, t2, ph), Ein) #vector of field values in FP\n",
    "    return abs(E[4])**2"
   ]
  },
  {
   "cell_type": "code",
   "execution_count": null,
   "metadata": {},
   "outputs": [],
   "source": [
    "# plot\n",
    "x = np.arange(-np.pi, np.pi,.01)\n",
    "y = list(map(I, x))\n",
    "\n",
    "plt.semilogy(x, y)\n",
    "plt.xlabel(r'Phase [rad]')\n",
    "plt.ylabel(r'Power')"
   ]
  },
  {
   "cell_type": "code",
   "execution_count": null,
   "metadata": {},
   "outputs": [],
   "source": []
  }
 ],
 "metadata": {
  "kernelspec": {
   "display_name": "Python 2",
   "language": "python",
   "name": "python2"
  },
  "language_info": {
   "codemirror_mode": {
    "name": "ipython",
    "version": 2
   },
   "file_extension": ".py",
   "mimetype": "text/x-python",
   "name": "python",
   "nbconvert_exporter": "python",
   "pygments_lexer": "ipython2",
   "version": "2.7.14"
  }
 },
 "nbformat": 4,
 "nbformat_minor": 2
}
